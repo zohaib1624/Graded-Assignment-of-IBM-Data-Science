{
 "cells": [
  {
   "cell_type": "markdown",
   "id": "cf165665",
   "metadata": {},
   "source": [
    "{\n",
    "  \"authors\": [\n",
    "    {\n",
    "      \"name\": \"Zohaib Ali\"\n",
    "    }\n",
    "  ],\n",
    "  \"kernelspec\": {\n",
    "    \"name\": \"python3\",\n",
    "    \"display_name\": \"Python 3 (ipykernel)\",\n",
    "    \"language\": \"python\"\n",
    "  },\n",
    "  \"language_info\": {\n",
    "    \"name\": \"python\",\n",
    "    \"version\": \"3.11.5\",\n",
    "    \"mimetype\": \"text/x-python\",\n",
    "    \"codemirror_mode\": {\n",
    "      \"name\": \"ipython\",\n",
    "      \"version\": 3\n",
    "    },\n",
    "    \"pygments_lexer\": \"ipython3\",\n",
    "    \"nbconvert_exporter\": \"python\",\n",
    "    \"file_extension\": \".py\"\n",
    "  }\n",
    "}"
   ]
  },
  {
   "cell_type": "code",
   "execution_count": null,
   "id": "2a76d7a2",
   "metadata": {},
   "outputs": [],
   "source": []
  }
 ],
 "metadata": {
  "authors": [
   {
    "name": "Zohaib Ali"
   }
  ],
  "kernelspec": {
   "display_name": "Python 3 (ipykernel)",
   "language": "python",
   "name": "python3"
  },
  "language_info": {
   "codemirror_mode": {
    "name": "ipython",
    "version": 3
   },
   "file_extension": ".py",
   "mimetype": "text/x-python",
   "name": "python",
   "nbconvert_exporter": "python",
   "pygments_lexer": "ipython3",
   "version": "3.11.5"
  }
 },
 "nbformat": 4,
 "nbformat_minor": 5
}
